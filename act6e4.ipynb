{
 "cells": [
  {
   "cell_type": "markdown",
   "metadata": {},
   "source": [
    "Solucin propuesta al enunciado 4\n"
   ]
  },
  {
   "cell_type": "markdown",
   "metadata": {},
   "source": [
    "Codigo proporcionado por las profes, que hace el siguiente codigo?"
   ]
  },
  {
   "cell_type": "markdown",
   "metadata": {},
   "source": [
    "imports y lecturas y se filtra con pandas"
   ]
  },
  {
   "cell_type": "code",
   "execution_count": 6,
   "metadata": {},
   "outputs": [
    {
     "name": "stdout",
     "output_type": "stream",
     "text": [
      "                Nombre  Ubicación  Profundidad máxima (m)\n",
      "6      Lago Pellegrini  Río Negro                     NaN\n",
      "8         Lago Fontana     Chubut                     NaN\n",
      "11       Lago La Plata     Chubut                     NaN\n",
      "30         Lago Blanco     Chubut                     NaN\n",
      "36      Lago Río Chico     Chubut                     NaN\n",
      "46  Lago Perito Moreno  Río Negro                     NaN\n",
      "49      Lago Pico Nº 1     Chubut                     NaN\n"
     ]
    }
   ],
   "source": [
    "import pandas as pd\n",
    "from pathlib import Path\n",
    "\n",
    "ruta_lagos = Path('.') / 'datasets' / 'lagos_arg.csv'\n",
    "\n",
    "# Leer el archivo CSV\n",
    "lagos = pd.read_csv(ruta_lagos)\n",
    "\n",
    "# Definir las provincias a filtrar\n",
    "provincias = [\"Chubut\", \"Río Negro\"]\n",
    "\n",
    "sub_data1 = lagos[(lagos.iloc[:,1].isin(provincias)) & (lagos.iloc[:,3].isnull())]\n",
    "\n",
    "# Definir las columnas que quieres mostrar\n",
    "columnas_a_mostrar = ['Nombre', 'Ubicación', 'Profundidad máxima (m)']\n",
    "\n",
    "# Mostrar solo las columnas seleccionadas\n",
    "sub_data_seleccionada = sub_data1[columnas_a_mostrar]\n",
    "\n",
    "# Imprimir el DataFrame resultante\n",
    "print(sub_data_seleccionada)"
   ]
  },
  {
   "cell_type": "markdown",
   "metadata": {},
   "source": [
    "filtro modificado, que cambios hubo?"
   ]
  },
  {
   "cell_type": "code",
   "execution_count": 5,
   "metadata": {},
   "outputs": [
    {
     "name": "stdout",
     "output_type": "stream",
     "text": [
      "                Nombre  Ubicación  Profundidad máxima (m)\n",
      "6      Lago Pellegrini  Río Negro                     NaN\n",
      "8         Lago Fontana     Chubut                     NaN\n",
      "11       Lago La Plata     Chubut                     NaN\n",
      "30         Lago Blanco     Chubut                     NaN\n",
      "36      Lago Río Chico     Chubut                     NaN\n",
      "46  Lago Perito Moreno  Río Negro                     NaN\n",
      "49      Lago Pico Nº 1     Chubut                     NaN\n"
     ]
    }
   ],
   "source": [
    "\n",
    "import pandas as pd\n",
    "from pathlib import Path\n",
    "\n",
    "ruta_lagos = Path('.') / 'datasets' / 'lagos_arg.csv'\n",
    "\n",
    "# Leer el archivo CSV\n",
    "lagos = pd.read_csv(ruta_lagos)\n",
    "\n",
    "# Definir las provincias a filtrar\n",
    "provincias = [\"Chubut\", \"Río Negro\"]\n",
    "\n",
    "\n",
    "\n",
    "sub_data2 = lagos[(lagos['Ubicación'].isin(provincias)) & (lagos['Profundidad máxima (m)'].isnull())]\n",
    "\n",
    "# Definir las columnas que quieres mostrar\n",
    "columnas_a_mostrar = ['Nombre', 'Ubicación', 'Profundidad máxima (m)']\n",
    "\n",
    "# Mostrar solo las columnas seleccionadas\n",
    "sub_data_seleccionada = sub_data2[columnas_a_mostrar]\n",
    "\n",
    "# Imprimir el DataFrame resultante\n",
    "print(sub_data_seleccionada)\n"
   ]
  },
  {
   "cell_type": "markdown",
   "metadata": {},
   "source": [
    "Ventajas de la solucion propuesta: legibilidad, manteniilidad, prevencion de errores, robustez\n"
   ]
  },
  {
   "cell_type": "markdown",
   "metadata": {},
   "source": [
    "porque legibilidad?\n",
    "El uso de nombres de columnas hace que el código sea más fácil de entender.\n",
    "Los nombres Ubicación y Nombre_columna describen claramente qué datos se están filtrando y verificando.\n",
    "\n",
    "porque mantenibilidad?\n",
    "El código es menos propenso a errores si el orden de las columnas cambia,\n",
    " ya que se basa en los nombres de las columnas en lugar de sus posiciones.\n",
    "\n",
    "porque prevencion de errores?\n",
    "Si las columnas cambian de nombre o se eliminan, \n",
    "pandas generará un error claro, facilitando la detección y corrección de problemas.\n",
    "\n",
    "porque robustez?\n",
    "El código es menos propenso a errores en caso de que el orden de las columnas cambie, \n",
    "ya que se basa en nombres de columnas descriptivos."
   ]
  }
 ],
 "metadata": {
  "kernelspec": {
   "display_name": "Python 3",
   "language": "python",
   "name": "python3"
  },
  "language_info": {
   "codemirror_mode": {
    "name": "ipython",
    "version": 3
   },
   "file_extension": ".py",
   "mimetype": "text/x-python",
   "name": "python",
   "nbconvert_exporter": "python",
   "pygments_lexer": "ipython3",
   "version": "3.11.1"
  }
 },
 "nbformat": 4,
 "nbformat_minor": 2
}
